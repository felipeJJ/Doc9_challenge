{
 "cells": [
  {
   "cell_type": "code",
   "execution_count": 34,
   "metadata": {},
   "outputs": [],
   "source": [
    "from selenium import webdriver \n",
    "from selenium.webdriver.chrome.service import Service\n",
    "from selenium.common.exceptions import StaleElementReferenceException\n",
    "from selenium.webdriver.common.by import By \n",
    "from datetime import datetime\n",
    "from PIL import Image\n",
    "import pandas as pd\n",
    "import pytesseract\n",
    "import requests\n",
    "import time\n",
    "import glob\n",
    "import re\n",
    "import os"
   ]
  },
  {
   "cell_type": "code",
   "execution_count": 35,
   "metadata": {},
   "outputs": [],
   "source": [
    "# Inicializar o WebDriver do Selenium (neste caso, usando o Chrome)\n",
    "\n",
    "service = Service()\n",
    "\n",
    "options = webdriver.ChromeOptions()\n",
    "\n",
    "options.add_argument(\"--headless\")\n",
    "\n",
    "driver = webdriver.Chrome(service=service, options=options)"
   ]
  },
  {
   "cell_type": "code",
   "execution_count": 36,
   "metadata": {},
   "outputs": [],
   "source": [
    "# Url do site\n",
    "url = 'https://rpachallengeocr.azurewebsites.net/'"
   ]
  },
  {
   "cell_type": "code",
   "execution_count": 37,
   "metadata": {},
   "outputs": [],
   "source": [
    "def fazer_download_links_pagina(idx):\n",
    "    linhas_tabela = driver.find_elements(By.XPATH, '//tbody/tr')\n",
    "\n",
    "    for linha in linhas_tabela:\n",
    "        try:\n",
    "            # Encontrar o link de download na linha atual\n",
    "            link_download = linha.find_element(By.XPATH, './/td/a')\n",
    "\n",
    "            # Encontrar a data na linha \"Due Date\"\n",
    "            due_date = pd.to_datetime(linha.find_element(By.XPATH, './td[3]').text, dayfirst=True)\n",
    "\n",
    "            # Verificar se o Invoice já venceu ou vence no dia de hoje\n",
    "            if (due_date <= pd.to_datetime(datetime.today().date())):\n",
    "                # Obter o URL do link de download\n",
    "                url_download = link_download.get_attribute('href')\n",
    "\n",
    "                # Fazer o download\n",
    "                response = requests.get(url_download)\n",
    "\n",
    "                # Verificar se a solicitação foi bem-sucedida\n",
    "                if response.status_code == 200:\n",
    "                    # Gerar um nome de arquivo exclusivo com um número sequencial\n",
    "                    nome_arquivo = f\"nome_do_arquivo_{idx}.jpg\"\n",
    "                    # Salvar o arquivo\n",
    "                    with open(nome_arquivo, \"wb\") as f:\n",
    "                        f.write(response.content)\n",
    "                    print(f\"Download do arquivo {nome_arquivo} concluído com sucesso!\")\n",
    "                    # Incrementar idx após o download de cada arquivo\n",
    "                    idx += 1\n",
    "                else:\n",
    "                    print(\"Falha ao baixar o arquivo.\")\n",
    "            else:\n",
    "                #Pular para a próxima linha da tabela\n",
    "                idx += 1\n",
    "                \n",
    "        # Se ocorrer a exceção StaleElementReferenceException, continuamos para a próxima iteração\n",
    "        except StaleElementReferenceException:\n",
    "            continue\n",
    "\n",
    "    # Retorna o próximo valor de idx\n",
    "    return idx\n",
    "\n",
    "# Inicialize o índice\n",
    "idx = 1"
   ]
  },
  {
   "cell_type": "code",
   "execution_count": 38,
   "metadata": {},
   "outputs": [],
   "source": [
    "# Extrai informaçoes da tabela e cria lista com elas\n",
    "def extrai_dados_tabela(df_table):\n",
    "    ids = []\n",
    "    due_dates = []\n",
    "    linhas_tabela = driver.find_elements(By.XPATH, '//tbody/tr')\n",
    "\n",
    "    # Iterar sobre as linhas da tabela\n",
    "    for linha in linhas_tabela:\n",
    "        id = linha.find_element(By.XPATH, './td[2]').text\n",
    "        due_date = linha.find_element(By.XPATH, './td[3]').text\n",
    "\n",
    "        # Encontrar a data na linha \"Due Date\"\n",
    "        due_date_num = pd.to_datetime(due_date, dayfirst=True)\n",
    "\n",
    "        # Verificar se o Invoice já venceu ou vence no dia de hoje\n",
    "        if due_date_num <= pd.to_datetime(datetime.today().date()):\n",
    "            ids.append(id)\n",
    "            due_dates.append(due_date)\n",
    "\n",
    "    # Criar um DataFrame com os novos dados\n",
    "    novos_dados = pd.DataFrame({'ID': ids, 'Due Date': due_dates})\n",
    "\n",
    "    # Concatenar o novo DataFrame com o DataFrame existente\n",
    "    df_table = pd.concat([df_table, novos_dados], ignore_index=True)\n",
    "\n",
    "    return df_table"
   ]
  },
  {
   "cell_type": "code",
   "execution_count": 39,
   "metadata": {},
   "outputs": [],
   "source": [
    "# Abrir a página inicial\n",
    "\n",
    "driver.get(url)"
   ]
  },
  {
   "cell_type": "code",
   "execution_count": 40,
   "metadata": {},
   "outputs": [
    {
     "name": "stdout",
     "output_type": "stream",
     "text": [
      "Download do arquivo nome_do_arquivo_2.jpg concluído com sucesso!\n",
      "Download do arquivo nome_do_arquivo_4.jpg concluído com sucesso!\n",
      "Download do arquivo nome_do_arquivo_7.jpg concluído com sucesso!\n",
      "Download do arquivo nome_do_arquivo_10.jpg concluído com sucesso!\n",
      "Download do arquivo nome_do_arquivo_11.jpg concluído com sucesso!\n",
      "Download do arquivo nome_do_arquivo_12.jpg concluído com sucesso!\n"
     ]
    }
   ],
   "source": [
    "# Define um DataFrame vazio\n",
    "df_table = pd.DataFrame(columns=['ID', 'Due Date'])\n",
    "\n",
    "# Loop para navegar por todas as páginas da tabela\n",
    "while True:\n",
    "    # Chamada da função fazer_download_links_pagina() com o índice atual\n",
    "    idx = fazer_download_links_pagina(idx)\n",
    "    # Chamada da função que extrai os dados da tebela do site\n",
    "    df_table = extrai_dados_tabela(df_table)\n",
    "\n",
    "    # verifica se o botão \"Next\" está desabilitado\n",
    "    next_button = driver.find_element(By.ID, \"tableSandbox_next\")\n",
    "    if \"disabled\" in next_button.get_attribute(\"class\"):\n",
    "        break\n",
    "\n",
    "    next_button.click()\n",
    "\n",
    "    time.sleep(0.1)\n",
    "    \n",
    "driver.quit()"
   ]
  },
  {
   "cell_type": "code",
   "execution_count": 41,
   "metadata": {},
   "outputs": [],
   "source": [
    "# Lista para armazenar as informações extraídas de cada arquivo\n",
    "informacoes_extraidas = []\n",
    "\n",
    "# Função para extrair informações de um arquivo de texto\n",
    "def extrair_informacoes_arquivo(texto_extraido):\n",
    "\n",
    "    # Padrões de regex para extrair as informações desejadas\n",
    "    padrao_invoice_number = r'#\\s*(\\d+)'\n",
    "    padrao_invoice_date = r'(\\w{3}\\s+\\d{1,2},\\s+\\d{4}|\\d{4}-\\d{2}-\\d{2})'\n",
    "    padrao_company_name = r'(Aenean\\s*LLC|Sit\\s*Amet\\s*Corp)'\n",
    "    padrao_total_due = r'(?:Total\\s*:\\s*\\$?|Total\\s*)([\\d,.]+)'\n",
    "\n",
    "    # Extrair as informações usando regex\n",
    "    invoice_number_match = re.search(padrao_invoice_number, texto_extraido)\n",
    "    invoice_date_match = re.search(padrao_invoice_date, texto_extraido)\n",
    "    company_name_match = re.search(padrao_company_name, texto_extraido)\n",
    "    total_due_match = re.search(padrao_total_due, texto_extraido)\n",
    "\n",
    "    # Armazenar as informações extraídas\n",
    "    informacoes = {}\n",
    "\n",
    "    # Verificar se as informações foram encontradas e adicionar ao dicionário\n",
    "    if invoice_number_match:\n",
    "        informacoes['Invoice Number'] = invoice_number_match.group(1)\n",
    "    if invoice_date_match:\n",
    "        # Verificar o formato da data\n",
    "        data = invoice_date_match.group(1)\n",
    "        if re.match(r'\\d{4}-\\d{2}-\\d{2}', data):\n",
    "            # Se a data estiver no formato 'yyyy-mm-dd', converter para 'dd-mm-yyyy'\n",
    "            data_formatada = datetime.strptime(data, '%Y-%m-%d').strftime('%d-%m-%Y')\n",
    "            informacoes['Invoice Date'] = data_formatada\n",
    "        elif re.match(r'\\w{3}\\s+\\d{1,2},\\s+\\d{4}', data):\n",
    "            # Se a data estiver no formato 'Jun 1, 2019', converter para 'dd-mm-yyyy'\n",
    "            data_formatada = datetime.strptime(data, '%b %d, %Y').strftime('%d-%m-%Y')\n",
    "            informacoes['Invoice Date'] = data_formatada\n",
    "    if company_name_match:\n",
    "        informacoes['Company Name'] = company_name_match.group(1)\n",
    "    if total_due_match:\n",
    "        informacoes['Total Due'] = total_due_match.group(1)\n",
    "    # Verificar se o formato do Total Due é numérico com separador de milhares e decimais\n",
    "    if total_due_match:\n",
    "        total_due = total_due_match.group(1)\n",
    "        if re.match(r'^\\d{1,3}(,\\d{3})*\\.\\d{2}$', total_due):\n",
    "            # Se o formato for \"21,442.80\", converter para 4139.60\n",
    "            total_due_formatado = '{:.2f}'.format(float(total_due.replace(',', '')))\n",
    "            informacoes['Total Due'] = total_due_formatado\n",
    "        else:\n",
    "            informacoes['Total Due'] = total_due\n",
    "\n",
    "    if informacoes:\n",
    "        # Adicionar as informações extraídas à lista\n",
    "        informacoes_extraidas.append(informacoes)\n",
    "    else:\n",
    "        print(f\"Falha ao extrair informações do arquivo\")"
   ]
  },
  {
   "cell_type": "code",
   "execution_count": 42,
   "metadata": {},
   "outputs": [],
   "source": [
    "# Lista todos os arquivos .jpg no diretório atual e os ordena numericamente\n",
    "arquivos_jpg = sorted(glob.glob('*.jpg'), key=lambda x: int(''.join(filter(str.isdigit, x))))\n",
    "\n",
    "# Loop através de todos os arquivos .jpg encontrados\n",
    "for arquivo in arquivos_jpg:\n",
    "    # Abrir a imagem\n",
    "    image = Image.open(arquivo)\n",
    "\n",
    "    # Extrair texto da imagem usando o Tesseract OCR\n",
    "    texto_extraido = pytesseract.image_to_string(image)\n",
    "\n",
    "    extrair_informacoes_arquivo(texto_extraido)\n"
   ]
  },
  {
   "cell_type": "code",
   "execution_count": 43,
   "metadata": {},
   "outputs": [
    {
     "name": "stdout",
     "output_type": "stream",
     "text": [
      "Informações extraídas:\n",
      "  Invoice Number Invoice Date Company Name Total Due                      ID  \\\n",
      "0         284210   01-06-2019   Aenean LLC   3000.00  p7xb1lyp1gc1npaldfclot   \n",
      "1         284213   03-06-2019   Aenean LLC   9778.40  sbo79920qjf2l0072993qx   \n",
      "2         284221   20-06-2019   Aenean LLC   6300.00  eckfs24nvpkx62r593ek29   \n",
      "3         284228   28-06-2019   Aenean LLC   1800.00  gtmtvj3iik4p1f4cipmdyq   \n",
      "4         284232   15-06-2019   Aenean LLC   1009.80  z63ewe4x0hqt2qvxztcydd   \n",
      "5         284212   02-06-2019   Aenean LLC   4139.60  hm9ffor26etjbzi3uss2jd   \n",
      "\n",
      "     Due Date  \n",
      "0  06-02-2024  \n",
      "1  20-01-2024  \n",
      "2  01-02-2024  \n",
      "3  31-01-2024  \n",
      "4  20-01-2024  \n",
      "5  17-02-2024  \n"
     ]
    }
   ],
   "source": [
    "# Criar um DataFrame com as informações extraídas\n",
    "df_informacoes_extraidas = pd.DataFrame(informacoes_extraidas)\n",
    "\n",
    "# Mesclar os DataFrames com base no índice\n",
    "tabela_completa = pd.concat([df_informacoes_extraidas, df_table], axis=1)\n",
    "\n",
    "# Salvar o DataFrame resultante em um novo arquivo CSV\n",
    "tabela_completa.to_csv('tabela_completa.csv', index=False)\n",
    "\n",
    "print(\"Informações extraídas:\")\n",
    "print(tabela_completa)\n"
   ]
  },
  {
   "cell_type": "code",
   "execution_count": 44,
   "metadata": {},
   "outputs": [
    {
     "name": "stdout",
     "output_type": "stream",
     "text": [
      "Todos os arquivos .jpg foram excluídos com sucesso.\n"
     ]
    }
   ],
   "source": [
    "# Obtém o caminho do diretório atual do projeto\n",
    "diretorio_projeto = os.getcwd()\n",
    "\n",
    "# Padrão de busca para arquivos .jpg\n",
    "padrao_arquivos_jpg = os.path.join(diretorio_projeto, '*.jpg')\n",
    "\n",
    "# Lista todos os arquivos .jpg no diretório do projeto\n",
    "arquivos_jpg = glob.glob(padrao_arquivos_jpg)\n",
    "\n",
    "# Exclui cada arquivo .jpg encontrado\n",
    "for arquivo in arquivos_jpg:\n",
    "    os.remove(arquivo)\n",
    "\n",
    "print(\"Todos os arquivos .jpg foram excluídos com sucesso.\")"
   ]
  }
 ],
 "metadata": {
  "kernelspec": {
   "display_name": "Python 3",
   "language": "python",
   "name": "python3"
  },
  "language_info": {
   "codemirror_mode": {
    "name": "ipython",
    "version": 3
   },
   "file_extension": ".py",
   "mimetype": "text/x-python",
   "name": "python",
   "nbconvert_exporter": "python",
   "pygments_lexer": "ipython3",
   "version": "3.9.13"
  }
 },
 "nbformat": 4,
 "nbformat_minor": 2
}
